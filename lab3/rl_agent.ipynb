{
 "cells": [
  {
   "cell_type": "code",
   "execution_count": 1,
   "metadata": {},
   "outputs": [],
   "source": [
    "import logging\n",
    "from collections import namedtuple\n",
    "import random\n",
    "from numpy.random import choice\n",
    "import functools"
   ]
  },
  {
   "cell_type": "code",
   "execution_count": 2,
   "metadata": {},
   "outputs": [],
   "source": [
    "Nimply = namedtuple(\"Nimply\", \"row, num_objects\")\n",
    "\n",
    "class Nim:\n",
    "    def __init__(self, num_rows: int, k: int = None) -> None:\n",
    "        self._rows = [i * 2 + 1 for i in range(num_rows)]\n",
    "        self._k = k\n",
    "\n",
    "    def __bool__(self):\n",
    "        return sum(self._rows) > 0\n",
    "\n",
    "    def __str__(self):\n",
    "        return \"<\" + \" \".join(str(_) for _ in self._rows) + \">\"\n",
    "\n",
    "    @property\n",
    "    def rows(self) -> tuple:\n",
    "        return tuple(self._rows)\n",
    "\n",
    "    def nimming(self, ply: Nimply) -> None:\n",
    "        row, num_objects = ply\n",
    "        assert self._rows[row] >= num_objects\n",
    "        assert self._k is None or num_objects <= self._k\n",
    "        self._rows[row] -= num_objects"
   ]
  },
  {
   "cell_type": "code",
   "execution_count": 3,
   "metadata": {},
   "outputs": [],
   "source": [
    "def _nimsum(state):\n",
    "    return functools.reduce(lambda a,b : a^b,state)\n",
    "\n",
    "def pure_random(state: Nim) -> Nimply:\n",
    "    row = random.choice([r for r, c in enumerate(state.rows) if c > 0])\n",
    "    num_objects = random.randint(1, state.rows[row])\n",
    "    return Nimply(row, num_objects)\n",
    "\n",
    "def gabriele(state: Nim) -> Nimply:\n",
    "    \"\"\"Pick always the maximum possible number of the lowest row\"\"\"\n",
    "    possible_moves = [(r, o) for r, c in enumerate(state.rows) for o in range(1, c + 1)]\n",
    "    return Nimply(*max(possible_moves, key=lambda m: (-m[0], m[1])))\n",
    "\n",
    "def optimal(state: Nim) -> Nimply:\n",
    "    nimsum=_nimsum(state._rows)\n",
    "    if nimsum==0:\n",
    "        return pure_random(state)\n",
    "    else:\n",
    "        for _ in reversed(range(len(state._rows))):\n",
    "            if state._rows[_]^nimsum<state._rows[_]:\n",
    "                return (_,state._rows[_]-(state._rows[_]^nimsum))\n",
    "        return pure_random(state)"
   ]
  },
  {
   "cell_type": "code",
   "execution_count": 4,
   "metadata": {},
   "outputs": [],
   "source": [
    "class ReinforcementLearningAgent:\n",
    "    def __init__(self,rows):\n",
    "        self._rules=dict()\n",
    "        self._game=[]\n",
    "        self._num_rows_=rows\n",
    "    \n",
    "    def evaluate_game(self,won):\n",
    "        for state,move in self._game:\n",
    "            self._rules[state]=tuple(sorted([rule if rule!=move else \n",
    "            ((rule[0],rule[1],rule[2]+1,rule[3]+1) if won else (rule[0],rule[1],rule[2]-2,rule[3]+1))\n",
    "             for rule in self._rules[state]],key=lambda a: a[2],reverse=True))\n",
    "        self._game=[]\n",
    "\n",
    "    def pickmove(self,state):\n",
    "        #logging.debug(f\"In pickmove with state {state}, state in self.rules? {state in self._rules}\")\n",
    "        if state not in self._rules:\n",
    "            #logging.debug(f\"New state found {state}\")\n",
    "            self._rules[state]=tuple(random.sample(self.__possiblemoves(state),self.__lenpossiblemoves(state))[:5 if self.__lenpossiblemoves(state)>5 else self.__lenpossiblemoves(state)])\n",
    "            #logging.debug(f\"Now moves for state {state} are {self._rules[state]}\")\n",
    "        else:\n",
    "            #logging.debug(f\"Old state {state}\")\n",
    "            if any([rule[2]<0 and rule[3]>5 for rule in self._rules[state]]):\n",
    "                #logging.debug(f\"State has all moves evaluated already {state} -> {self._rules[state]}\")\n",
    "                new_rules=random.sample(self.__newpossiblemoves(state),len(self.__newpossiblemoves(state)))[:5 if len(self.__newpossiblemoves(state))>5 else len(self.__newpossiblemoves(state))]\n",
    "                badcurrmoves=sum([rule[2]<0 and rule[3]>5 for rule in self._rules[state]])\n",
    "                len_new_rules=len(new_rules)\n",
    "                if len_new_rules>0:\n",
    "                    self._rules[state]=tuple(sorted(list(self._rules[state])[:len(self._rules[state])-badcurrmoves]+new_rules[:badcurrmoves if len_new_rules>badcurrmoves else len_new_rules],key=lambda a: a[2],reverse=True))\n",
    "                #logging.debug(f\"Now fixed and state {state} has moves -> {self._rules[state]}\")\n",
    "        #logging.debug(f\"Before picking a move the rules for state {state} are {self._rules[state]}\")\n",
    "        #if any([rule[3]<3 for rule in self._rules[state]]):\n",
    "            #picked_move=random.choice([rule for rule in self._rules[state] if rule[3]<3])\n",
    "        #else:\n",
    "        minfit=min([rule[2] for rule in self._rules[state]])\n",
    "        weigths=[-minfit+rule[2]+1 for rule in self._rules[state]]\n",
    "        weigths=[_/sum(weigths) for _ in weigths]\n",
    "        picked_move_index=choice(list(range(len(weigths))),1,p=weigths)[0]\n",
    "        picked_move=self._rules[state][picked_move_index]\n",
    "        self._game.append((state,picked_move))\n",
    "        #logging.debug(f\"Picked move {picked_move} for state {state}\")\n",
    "        return Nimply(picked_move[0],picked_move[1])\n",
    "\n",
    "    def __possiblemoves(self,state):\n",
    "        #moves=[(row,toTake,0,0) for row in range(self._num_rows_) for toTake in range(state[row])]\n",
    "        #logging.debug(f\"Moves for state {state} have len{len(moves)}\")\n",
    "        #return moves\n",
    "        return [(row,toTake+1,0,0) for row in range(self._num_rows_) for toTake in range(state[row])]\n",
    "\n",
    "    def __newpossiblemoves(self,state):\n",
    "        return [(row,toTake+1,0,0) for row in range(self._num_rows_) for toTake in range(state[row]) if (row,toTake+1) not in [(_[0],_[1]) for _ in self._rules[state]]]\n",
    "\n",
    "    def __lenpossiblemoves(self,state):\n",
    "        #logging.debug(f\"LEN POSSIBLE MOVES FOR STATE {state} is {sum(state)}\")\n",
    "        return sum(state)\n"
   ]
  },
  {
   "cell_type": "code",
   "execution_count": 5,
   "metadata": {},
   "outputs": [],
   "source": [
    "mp=ReinforcementLearningAgent(11)"
   ]
  },
  {
   "cell_type": "code",
   "execution_count": 16,
   "metadata": {},
   "outputs": [
    {
     "name": "stderr",
     "output_type": "stream",
     "text": [
      "DEBUG:root:After 1000 my player won 971 games!\n"
     ]
    }
   ],
   "source": [
    "wins=0\n",
    "logging.getLogger().setLevel(logging.DEBUG)\n",
    "starting=random.choice([True,False])\n",
    "player=0\n",
    "NUM_GAMES=1000\n",
    "for _ in range(NUM_GAMES):\n",
    "    nim=Nim(11)\n",
    "    #logging.debug(f\"In this game I'm player #{0 if starting else 1}\")\n",
    "    while nim:\n",
    "        if starting!=player:\n",
    "            ply=mp.pickmove(nim.rows)\n",
    "        else:\n",
    "            ply=gabriele(nim)\n",
    "        nim.nimming(ply)\n",
    "        #logging.debug(f\"After player {player} move now rows are {nim}\")\n",
    "        player=1-player\n",
    "    winner=1-player\n",
    "    won=(winner==0 and starting) or (winner==1 and not starting)\n",
    "    mp.evaluate_game(won)\n",
    "    if won:\n",
    "        wins+=1\n",
    "    starting=random.choice([True,False])\n",
    "\n",
    "logging.debug(f\"After {NUM_GAMES} my player won {wins} games!\")"
   ]
  }
 ],
 "metadata": {
  "kernelspec": {
   "display_name": "Python 3.10.2 64-bit",
   "language": "python",
   "name": "python3"
  },
  "language_info": {
   "codemirror_mode": {
    "name": "ipython",
    "version": 3
   },
   "file_extension": ".py",
   "mimetype": "text/x-python",
   "name": "python",
   "nbconvert_exporter": "python",
   "pygments_lexer": "ipython3",
   "version": "3.10.2"
  },
  "orig_nbformat": 4,
  "vscode": {
   "interpreter": {
    "hash": "369f2c481f4da34e4445cda3fffd2e751bd1c4d706f27375911949ba6bb62e1c"
   }
  }
 },
 "nbformat": 4,
 "nbformat_minor": 2
}
